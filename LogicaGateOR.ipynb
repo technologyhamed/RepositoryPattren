{
  "nbformat": 4,
  "nbformat_minor": 0,
  "metadata": {
    "colab": {
      "name": "LogicaGateOR.ipynb",
      "provenance": [],
      "collapsed_sections": [],
      "include_colab_link": true
    },
    "kernelspec": {
      "name": "python3",
      "display_name": "Python 3"
    },
    "language_info": {
      "name": "python"
    }
  },
  "cells": [
    {
      "cell_type": "markdown",
      "metadata": {
        "id": "view-in-github",
        "colab_type": "text"
      },
      "source": [
        "<a href=\"https://colab.research.google.com/github/technologyhamed/RepositoryPattren/blob/master/LogicaGateOR.ipynb\" target=\"_parent\"><img src=\"https://colab.research.google.com/assets/colab-badge.svg\" alt=\"Open In Colab\"/></a>"
      ]
    },
    {
      "cell_type": "code",
      "metadata": {
        "id": "mMSltFK7yrIL"
      },
      "source": [
        "from itertools import cycle\n",
        "import matplotlib.pyplot as plt\n",
        "import seaborn as sns\n",
        "import numpy as np\n"
      ],
      "execution_count": 325,
      "outputs": []
    },
    {
      "cell_type": "code",
      "metadata": {
        "id": "UxXeBFHF1M8F"
      },
      "source": [
        "#We start with random values of the weights:\n",
        "# W=np.random.uniform(size=(3,1))\n",
        "# #W=np.round(W,1)\n",
        "# weights=[W_1,W_2,theta]\n",
        "# print(weights)"
      ],
      "execution_count": 326,
      "outputs": []
    },
    {
      "cell_type": "code",
      "metadata": {
        "id": "y4SPDJqC1AOJ"
      },
      "source": [
        "#Returns values that sums to one.\n",
        "#activation function\n",
        "def sigmoid(x):\n",
        "    return 1 / (1 + np.exp(-x))\n",
        "# derivative of Sigmoid Function\n",
        "def sigmoid_derivative(sx):\n",
        "    return sx * (1 - sx)\n",
        "\n",
        "#step function \n",
        "def step (net):\n",
        "    if net >= 0:\n",
        "        return 1\n",
        "    else:\n",
        "        return 0       "
      ],
      "execution_count": 327,
      "outputs": []
    },
    {
      "cell_type": "code",
      "metadata": {
        "id": "4cEkbcTC7RWp"
      },
      "source": [
        "#train_data and Target Or | And\n",
        "x_data = np.array(\n",
        "    [\n",
        "        [0, 0],\n",
        "        [0, 1],\n",
        "        [1, 0],\n",
        "        [1, 1]])\n",
        "\n",
        "y_or = np.array(\n",
        "    [\n",
        "        [0],\n",
        "        [1],\n",
        "        [1],\n",
        "        [1]])\n",
        "\n",
        "y_and = np.array(\n",
        "    [\n",
        "        [0],\n",
        "        [1],\n",
        "        [1],\n",
        "        [1]])"
      ],
      "execution_count": 328,
      "outputs": []
    },
    {
      "cell_type": "code",
      "metadata": {
        "colab": {
          "base_uri": "https://localhost:8080/"
        },
        "id": "fB8l6xtbm3mZ",
        "outputId": "78e6f1f5-0c5b-432c-94cb-df4d37f06dea"
      },
      "source": [
        "weights=np.random.uniform(size=3)\n",
        "print(weights)\n",
        "# w = np.random.rand(1,3) * 10\n",
        "# w_1 = np.round(w[0][0], 1)\n",
        "# w_2 = np.round(w[0][1], 1)\n",
        "# theta = np.round(w[0][2], 1)\n",
        "#weights=np.array([[w_1],[w_2],[theta]])\n",
        "#print(weights)\n",
        "#print(weights[0]+weights[1])"
      ],
      "execution_count": 329,
      "outputs": [
        {
          "output_type": "stream",
          "name": "stdout",
          "text": [
            "[0.02508688 0.62336931 0.99954918]\n"
          ]
        }
      ]
    },
    {
      "cell_type": "code",
      "metadata": {
        "id": "aAmz06LNwHfA"
      },
      "source": [
        "# Calculate accuracy percentage\n",
        "def accuracy_metric(actual, predicted):\n",
        "\tcorrect = 0\n",
        "\tfor i in range(len(actual)):\n",
        "\t\tif actual[i] == predicted[i]:\n",
        "\t\t\tcorrect += 1\n",
        "\treturn correct / float(len(actual)) * 100.0"
      ],
      "execution_count": 330,
      "outputs": []
    },
    {
      "cell_type": "code",
      "metadata": {
        "id": "QI5N4X-z7aDC"
      },
      "source": [
        " def gradient(node, exp, output):\n",
        "        return node * (exp - output)  "
      ],
      "execution_count": 331,
      "outputs": []
    },
    {
      "cell_type": "code",
      "metadata": {
        "id": "gbelnX6xD-mi"
      },
      "source": [
        "def Pridict(train,weights):\n",
        "     W1=np.dot(weights[1] , train[0])\n",
        "     W2=np.dot(weights[2] , train[1])\n",
        "     #return 1.0 if Z >= 0.0 else 0.0 \n",
        "     return sigmoid(W1+W2 + weights[0])"
      ],
      "execution_count": 332,
      "outputs": []
    },
    {
      "cell_type": "code",
      "metadata": {
        "id": "od0AlCRh7G-9"
      },
      "source": [
        "def update_weights(train,target, yhat,weights,learning_rate):\n",
        "  e = []\n",
        "  error = target - yhat\n",
        "  e.append(error)\n",
        "  dEdW_1 = error * sigmoid_derivative(yhat) *learning_rate * train[0] \n",
        "  dEdW_2 = error * sigmoid_derivative(yhat) *learning_rate * train[1]  \n",
        "  dEdW_0 = error * sigmoid_derivative(yhat) *learning_rate \n",
        "\n",
        "  weights[0] = weights[0] +  dEdW_0\n",
        "  weights[1] = weights[1] +  dEdW_1\n",
        "  weights[2] = weights[2] +  dEdW_2    \n",
        "  return weights        \n"
      ],
      "execution_count": 333,
      "outputs": []
    },
    {
      "cell_type": "code",
      "metadata": {
        "id": "xZrZzNXIBAMv"
      },
      "source": [
        "\n",
        "#Train a single layer perceptron.\n",
        "\n",
        "def Train(x_data,y,weights,learning_rate=0.1,Epoch=500): \n",
        "\n",
        "\n",
        " for ep in range(Epoch):  \n",
        "  correct_counter = 0\n",
        "  #for train, target in cycle(zip(x_data,y)):\n",
        "  for row in range(len(x_data)):\n",
        "    # end if all points are correctly classified\n",
        "    if correct_counter == len(x_data):\n",
        "       break\n",
        "    yhat = Pridict(x_data[row],weights)\n",
        "       #node_val = train\n",
        "    if yhat == y[row]:\n",
        "         correct_counter += 1\n",
        "    else:\n",
        "        weights=update_weights(x_data[row],y[row], yhat,weights,learning_rate)\n",
        "        #print(weights)\n",
        "        correct_counter = 0  \n",
        "                   \n",
        " return weights\n",
        "  "
      ],
      "execution_count": 334,
      "outputs": []
    },
    {
      "cell_type": "code",
      "metadata": {
        "id": "9XRn4ForpQyA"
      },
      "source": [
        "def Plots(x_data,weights):\n",
        "   \n",
        "    \n",
        "    #  for i in range(len(train_data)):\n",
        "    #         plt.plot([train_data[i][0]],\n",
        "    #                  [train_data[i][1]],\n",
        "    #                  colors[target[i][0]],\n",
        "    #                  markersize=20)\n",
        " x_range = np.arange(-0.1, 1.1, 0.1)\n",
        " y_range = np.arange(-0.1, 1.1,0.1)\n",
        " xx, yy = np.meshgrid(x_range, y_range)\n",
        " plt.style.use('fast')\n",
        " fig, ax = plt.subplots(figsize=(6, 6))\n",
        " ax.scatter(0, 0, c='r', label=\"Class 0\")\n",
        " ax.scatter(0, 1, c='b', label=\"Class 1\")\n",
        " ax.scatter(1, 0, c='b', label=\"Class 1\")\n",
        " ax.scatter(1, 1, c='b', label=\"Class 1\")\n",
        " plt.xlim(-0.1, 1.1)\n",
        " plt.ylim(-0.1, 1.1)\n",
        " #plt.legend()\n",
        "\n",
        " y = (-(weights[1])/(weights[2]) * yy ) - (weights[0]/weights[2])\n",
        "\n",
        " plt.plot(x_range , y,linestyle='solid',color='black');\n",
        " #plt.plot(xx,'r--')\n",
        " plt.grid()\n",
        " plt.show() "
      ],
      "execution_count": 335,
      "outputs": []
    },
    {
      "cell_type": "code",
      "metadata": {
        "colab": {
          "base_uri": "https://localhost:8080/",
          "height": 374
        },
        "id": "zL_kyCqLZOPI",
        "outputId": "8bb35d8c-93c8-4429-b5cb-d1d53d410b52"
      },
      "source": [
        "weights=Train(x_data,y_and,weights,0.1)\n",
        "Plots(x_data,weights)"
      ],
      "execution_count": 336,
      "outputs": [
        {
          "output_type": "display_data",
          "data": {
            "image/png": "[encoded data removed]",
            "text/plain": [
              "<Figure size 432x432 with 1 Axes>"
            ]
          },
          "metadata": {
            "needs_background": "light"
          }
        }
      ]
    }
  ]
}